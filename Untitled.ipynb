{
 "cells": [
  {
   "cell_type": "code",
   "execution_count": 213,
   "metadata": {
    "collapsed": true
   },
   "outputs": [],
   "source": [
    "# https://medium.freecodecamp.org/how-to-scrape-websites-with-python-and-beautifulsoup-5946935d93fe"
   ]
  },
  {
   "cell_type": "code",
   "execution_count": 104,
   "metadata": {},
   "outputs": [],
   "source": [
    "from urllib.request import urlopen\n",
    "from bs4 import BeautifulSoup\n",
    "import requests\n",
    "import pandas as pd\n",
    "import re\n",
    "import csv\n",
    "import json"
   ]
  },
  {
   "cell_type": "code",
   "execution_count": 14,
   "metadata": {
    "collapsed": true
   },
   "outputs": [],
   "source": [
    "# years = ['2011', '2012', '2013', '2014', '2015', '2016', '2017', '2018']\n",
    "url = 'http://www.nigeria70.com/nigerian_news_paper/archives/the_punch/2018/07'"
   ]
  },
  {
   "cell_type": "code",
   "execution_count": 29,
   "metadata": {
    "collapsed": true
   },
   "outputs": [],
   "source": [
    "page = urlopen(url)"
   ]
  },
  {
   "cell_type": "code",
   "execution_count": 31,
   "metadata": {
    "collapsed": true
   },
   "outputs": [],
   "source": [
    "soup = BeautifulSoup(page, 'html.parser')"
   ]
  },
  {
   "cell_type": "code",
   "execution_count": 33,
   "metadata": {},
   "outputs": [],
   "source": [
    "# soup"
   ]
  },
  {
   "cell_type": "code",
   "execution_count": 19,
   "metadata": {},
   "outputs": [],
   "source": [
    "# gotten = soup.findAll('div', attrs={'class': 'holder'})"
   ]
  },
  {
   "cell_type": "code",
   "execution_count": 20,
   "metadata": {},
   "outputs": [
    {
     "data": {
      "text/plain": [
       "[]"
      ]
     },
     "execution_count": 20,
     "metadata": {},
     "output_type": "execute_result"
    }
   ],
   "source": [
    "# gotten"
   ]
  },
  {
   "cell_type": "code",
   "execution_count": 35,
   "metadata": {
    "scrolled": true
   },
   "outputs": [],
   "source": [
    "# soup.p.find_all(href=re.compile(\"/nigerian_news_paper\"))"
   ]
  },
  {
   "cell_type": "code",
   "execution_count": 23,
   "metadata": {},
   "outputs": [],
   "source": [
    "# soup.a.find_all(href=re.compile(\"/nigerian_news_paper\"))"
   ]
  },
  {
   "cell_type": "code",
   "execution_count": 33,
   "metadata": {
    "scrolled": true
   },
   "outputs": [
    {
     "data": {
      "text/plain": [
       "<a href=\"/\" title=\"Nigeria '70, All the latest Nigerian News ... in one Place\"><img alt=\"Nigeria '70, All the latest Nigerian News ... in one Place\" class=\"logo\" src=\"/assets/nigeria70_logo.gif\"/></a>"
      ]
     },
     "execution_count": 33,
     "metadata": {},
     "output_type": "execute_result"
    }
   ],
   "source": [
    "# cancled\n",
    "soup.div.find_all()"
   ]
  },
  {
   "cell_type": "code",
   "execution_count": 36,
   "metadata": {
    "collapsed": true
   },
   "outputs": [],
   "source": [
    "lol = soup.find('div', attrs={'class': 'holder'})"
   ]
  },
  {
   "cell_type": "code",
   "execution_count": 43,
   "metadata": {},
   "outputs": [
    {
     "data": {
      "text/plain": [
       "[<a href=\"/nigerian_news_paper/leadway_assurance_meets_tier_i_requirements/1421915\">Leadway Assurance meets Tier I requirements</a>]"
      ]
     },
     "execution_count": 43,
     "metadata": {},
     "output_type": "execute_result"
    }
   ],
   "source": [
    "lol.find_all()"
   ]
  },
  {
   "cell_type": "code",
   "execution_count": 80,
   "metadata": {},
   "outputs": [],
   "source": [
    "# for tag in lol.find_all(href=re.compile(\"/nigerian_news_paper\"), string=True):\n",
    "#     print(type(tag.text))\n",
    "    "
   ]
  },
  {
   "cell_type": "code",
   "execution_count": null,
   "metadata": {
    "collapsed": true
   },
   "outputs": [],
   "source": [
    "lol.find_all(href=re.compile(\"/nigerian_news_paper\"), string=True)"
   ]
  },
  {
   "cell_type": "code",
   "execution_count": 79,
   "metadata": {
    "collapsed": true
   },
   "outputs": [],
   "source": [
    "# https://stackoverflow.com/questions/6750240/how-to-do-re-compile-with-a-list-in-python\n",
    "names = ['Buhari', 'Jonathan', 'APC']\n",
    "lala = lol.find_all(string=re.compile(r'\\b(?:%s)\\b' % '|'.join(names)))"
   ]
  },
  {
   "cell_type": "code",
   "execution_count": 166,
   "metadata": {},
   "outputs": [
    {
     "data": {
      "text/plain": [
       "['Crisis: APC summons Ortom, Akume to Abuja',\n",
       " 'Osun polls: APC to choose candidate through direct primary',\n",
       " 'Aggrieved APC youths accuse Obaseki of marginalisation',\n",
       " 'Ex-gov Nyako, son dump APC for ADC',\n",
       " 'Ortom declares intention to defect from  APC',\n",
       " 'Fayemi, not APC, won Ekiti election',\n",
       " 'Don’t be deceived by Ekiti “rigging”, PDP tells Buhari, APC\\xa0',\n",
       " 'Osun Gov election: APC opts for direct primaries to pick candidate',\n",
       " 'I’ve been given a red card, I’m outside the pitch, Ortom says of APC membership',\n",
       " 'R-APC:\\xa0Fresh\\xa0attack on Saraki as APC national officer accuses him of\\xa0double dealing',\n",
       " 'Presidency orders Kachikwu to resolve Delta APC crisis ahead 2019',\n",
       " '‘No amount of coalition can stop APC’– Lawmaker',\n",
       " 'APC victory in Ekiti will be replicated in South-East in 2019… Buhari loyalists',\n",
       " 'Obaseki hails Fayemi, Edo APC holds\\xa0victory\\xa0rally',\n",
       " 'Groups advise APC on Osun gov primary',\n",
       " 'Reps panel to question Obasanjo, Jonathan, others over Abacha loot',\n",
       " 'APC is highest bidder in vote buying  – AP candidate',\n",
       " 'Ekiti election: Our party best placed to move Ekiti forward – APC',\n",
       " 'Ekiti election: APC congratulates Fayemi, says party best placed to develop Nigeria',\n",
       " 'Ekiti election update: Fayemi’s victory, call to higher service – APC UK',\n",
       " 'Fayemi wins as APC, PDP woo voters with cash',\n",
       " 'PDP decries APC’s alleged attacks on members',\n",
       " '‘APC is originator of hate speech’',\n",
       " 'S’West Accord Party leaders tackle chairman over APC-led alliance',\n",
       " 'APC lacks solutions to Nigeria’s problems – Lamido',\n",
       " 'Nigerians tired of APC –Wike',\n",
       " 'We’ll soon expose cowards behind R-APC –Omo-Agege',\n",
       " 'APC using Faboyede’s trial to persecute Ondo PDP – Fadaka',\n",
       " 'APC leaders already going round begging –Afegbua',\n",
       " 'APC to battle its own formula',\n",
       " 'Ekiti election: PDP, APC raise the alarm over alleged manipulation of results',\n",
       " 'Ekiti: PDP decries APC’s alleged\\xa0 brutalisation of members, ballot snatching\\xa0\\xa0',\n",
       " 'PDP accuses APC, Fayemi of importing fake policemen, duplicating ballot papers',\n",
       " 'We’re still in APC but may defect soon,  say Shehu Sani, Hunkuyi',\n",
       " 'Buhari congratulates Adeboye’s wife at 70, mourns APC chieftain',\n",
       " 'Buhari mourns Plateau APC chief, Hassan',\n",
       " 'R-APC members ask court to nullify Oshiomhole, others’ election',\n",
       " 'Bayelsa APC leader falls from two-storey building, dies',\n",
       " 'Ex-Kogi Gov Idris’ son leaves APC for PDP',\n",
       " 'Fayose’s ‘police beat me’ claim, comedy of the year –APC',\n",
       " 'R-APC writes INEC, seeks nullification of APC convention',\n",
       " 'Reps clash over R-APC, as AD, ANN disown PDP-led coalition',\n",
       " 'Ex-AD chief wants Obasanjo, IBB, Jonathan probed',\n",
       " 'R-APC and the rest of us',\n",
       " 'Ekiti poll: Jonathan calls for caution',\n",
       " 'Labour Party not part of coalition to oust APC –Chairman',\n",
       " 'Reps protest mention of R-APC on House floor',\n",
       " 'Fayose chides APC for ‘hiring crowd’, blocking govt house gates',\n",
       " 'PDP mocks APC, Fayemi over rally',\n",
       " 'No gang-up can make us waiver –APC',\n",
       " '‘APC has falsified results’',\n",
       " 'VIDEO: Bring back Fayose on Saturday, says Ngige in APC mega rally gaffe',\n",
       " 'PHOTOS: Buhari arrives Ekiti for APC mega rally',\n",
       " 'Coalition cannot stop Buhari’s re-election – APC',\n",
       " 'Take advantage of reconciliation window, APC tells ‘genuinely aggrieved’ members',\n",
       " 'We’re ready to rescue Oyo from APC’s misrule — PDP',\n",
       " 'PDP, SDP,  R-APC,  36 others form alliance against Buhari',\n",
       " 'We won’t oppose deployment of soldiers –APC',\n",
       " 'PDP, APC supporters disrupt INEC stakeholders meeting in Ekiti',\n",
       " 'Saraki, R-APC and Buhari’s unusual political strategy',\n",
       " 'Implement APC report on restructuring, IYC tells FG',\n",
       " 'PDP,\\xa0SDP,\\xa0 R-APC,\\xa0 36 other parties form alliance',\n",
       " 'APC to sue R-APC\\xa0for copyright infringement',\n",
       " '2019: Northern youths kick as Northwest APC lawmakers endorse Buhari',\n",
       " '2019: Northern youth kick as Northwest APC lawmakers endorse Buhari',\n",
       " 'R-APC meets today, decides next moves',\n",
       " 'R-APC: APC drags Galadima, others to court',\n",
       " 'UK’s conviction of Edo APC ex-aspirant unfortunate — Party',\n",
       " 'R-APC N’Assembly members plot mass defection July 31',\n",
       " 'Police arrest five for killing Imo APC chieftain',\n",
       " 'Jonathan mourns Ciroma as PDP plans to immortalise him',\n",
       " 'Defunct CPC state chairmen disown R-APC',\n",
       " 'Kaduna R-APC inaugurates state exco, says APC has failed',\n",
       " '2019: Buhari may get APC nomination, expression of interest forms free',\n",
       " 'APC-led FG lacks coordination –R-APC',\n",
       " 'Insecurity worse under Buhari than Jonathan  –Sheikh Gumi',\n",
       " 'APC end nearer than expected, says PDP chairman',\n",
       " 'Only justice can solve APC crisis – Dogara',\n",
       " 'Court nullifies Imo APC congresses, orders fresh polls',\n",
       " 'APC disowns R-APC, probes factional leaders’ status',\n",
       " 'APC govs keep mum after meeting with Buhari',\n",
       " 'BREAKING:  No panic over factional APC, says Yari',\n",
       " 'BREAKING: Court nullifies Imo APC congresses, orders fresh polls',\n",
       " 'BREAKING: Buhari, three APC governors in crucial meeting',\n",
       " 'Fresh crisis hits APC as nPDP, others form faction, R-APC',\n",
       " 'I rejected APC leaders’ plan to trade away Olusola, says Fayose',\n",
       " 'Reps probe Abacha loot recovered by Obasanjo, Yar’Adua, Jonathan, Buhari',\n",
       " 'Alao-Akala joins Oyo APC gov race',\n",
       " 'Buhari’s ex-ally, Galadima, heads\\xa0APC faction, R-APC',\n",
       " 'APC crisis: Oshiomhole is coming too late, we are leaving- Shehu\\xa0Sani',\n",
       " '500 PDP members defect to APC in Lagos',\n",
       " 'BREAKING: Court affirms Ogodo-led Delta APC Exco, restrains Oshiomhole, INEC, others',\n",
       " 'Police arrest five suspects over Imo APC chieftain’s alleged murder',\n",
       " 'Police arrest alleged killers of Imo APC chieftain',\n",
       " 'Court fixes July 16 for suit challenging Adamawa APC congress',\n",
       " 'Delta APC protests Oshiomhole’s adoption of Ogboru/Omo-Agege’s faction',\n",
       " 'Saraki’s Chief of Staff dumps APC',\n",
       " 'Adeoti seeks credible Osun APC gov primary',\n",
       " 'Saraki’s Chief of Staff, Baba-Ahmed, leaves APC, says party ‘grossly under-performed’',\n",
       " 'APC chieftain hopeful of 2019 victory',\n",
       " 'Why we sued Fayemi over APC candidacy – Segun Oni’s group',\n",
       " 'Crisis resolution tops as APC NWC holds inaugural meeting Wed']"
      ]
     },
     "execution_count": 166,
     "metadata": {},
     "output_type": "execute_result"
    }
   ],
   "source": [
    "lala"
   ]
  },
  {
   "cell_type": "code",
   "execution_count": null,
   "metadata": {
    "collapsed": true
   },
   "outputs": [],
   "source": []
  },
  {
   "cell_type": "markdown",
   "metadata": {},
   "source": [
    "# Step 1"
   ]
  },
  {
   "cell_type": "code",
   "execution_count": 82,
   "metadata": {
    "collapsed": true
   },
   "outputs": [],
   "source": [
    "url2 = 'http://www.nigeria70.com/nigerian_news_paper/archives/the_punch'"
   ]
  },
  {
   "cell_type": "code",
   "execution_count": 83,
   "metadata": {
    "collapsed": true
   },
   "outputs": [],
   "source": [
    "launch = urlopen(url2)\n",
    "soups = BeautifulSoup(launch, 'html.parser')"
   ]
  },
  {
   "cell_type": "code",
   "execution_count": 91,
   "metadata": {
    "collapsed": true
   },
   "outputs": [],
   "source": [
    "cris = soups.find('div', attrs={'class': 'news_story_right_column'})"
   ]
  },
  {
   "cell_type": "code",
   "execution_count": 118,
   "metadata": {
    "collapsed": true
   },
   "outputs": [],
   "source": [
    "def get arr = []\n",
    "for a in cris.find_all('a', attrs={'href': re.compile(\"/nigerian_news_paper/archives/\")}):\n",
    "    arr.append(a['href'])"
   ]
  },
  {
   "cell_type": "markdown",
   "metadata": {},
   "source": [
    "### Start here"
   ]
  },
  {
   "cell_type": "code",
   "execution_count": 108,
   "metadata": {
    "collapsed": true
   },
   "outputs": [],
   "source": [
    "punch = 'http://www.nigeria70.com/nigerian_news_paper/archives/the_punch'\n",
    "website = 'http://www.nigeria70.com'\n",
    "names = ['Buhari', 'Jonathan', 'APC']\n",
    "\n",
    "\n",
    "\n",
    "# Takes  http://www.nigeria70.com//nigerian_news_paper/archives/the_punch \n",
    "# Returns /nigerian_news_paper/archives/the_punch/2018/07\n",
    "def getUrls(archive):\n",
    "    \n",
    "    #archive = archive page\n",
    "    soups = BeautifulSoup(urlopen(archive), 'html.parser')\n",
    "    getData = soups.find('div', attrs={'class': 'news_story_right_column'})\n",
    "    \n",
    "    for a in getData.find_all('a', attrs={'href': re.compile(\"/nigerian_news_paper/archives/\")}):\n",
    "        archives.append(a['href'])\n",
    "\n",
    "# \n",
    "# Takes /nigerian_news_paper/archives/the_punch/2018/07 []\n",
    "# Returns http://www.nigeria70.com/nigerian_news_paper/archives/the_punch/2018/07 []\n",
    "def fullUrl(partUrl):   \n",
    "    fullWebsite = []\n",
    "    for item in partUrl:\n",
    "        fullWebsite.append(website + item)\n",
    "    return fullWebsite\n",
    "\n",
    "# Takes http://www.nigeria70.com/nigerian_news_paper/archives/the_punch/2018/07\n",
    "# Returns Dictionary of headlines\n",
    "headlines = {}\n",
    "def getHeadline(websiteArr):\n",
    "    \n",
    "#     for item in websiteArr: \n",
    "#         page = urlopen(item)\n",
    "#         soup = BeautifulSoup(page, 'html.parser')\n",
    "#         div = soup.find('div', attrs={'class': 'holder'})\n",
    "#         result = div.find_all(string=re.compile(r'\\b(?:%s)\\b' % '|'.join(names)))\n",
    "#         headlines[item[-7:]] = result\n",
    "    textItem = []   \n",
    "    for item in websiteArr: \n",
    "        page = urlopen(item)\n",
    "        soup = BeautifulSoup(page, 'html.parser')\n",
    "        div = soup.find('div', attrs={'class': 'holder'})\n",
    "        for tag in div.find_all(href=re.compile(\"/nigerian_news_paper\"), string=True):\n",
    "            textItem.append(tag.text)\n",
    "        headlines[item[-7:]] = textItem        \n",
    "        return headlines\n",
    "\n",
    "def storeToJson(dict, name):\n",
    "    name = str(name)\n",
    "    with open(name + '.json', 'w') as fp:\n",
    "        json.dump(dict, fp, indent=4)"
   ]
  },
  {
   "cell_type": "code",
   "execution_count": null,
   "metadata": {},
   "outputs": [],
   "source": []
  },
  {
   "cell_type": "code",
   "execution_count": 117,
   "metadata": {},
   "outputs": [],
   "source": [
    "# %%time\n",
    "# getHeadline(['http://www.nigeria70.com/nigerian_news_paper/archives/the_punch/2018/07', ])"
   ]
  },
  {
   "cell_type": "code",
   "execution_count": 103,
   "metadata": {},
   "outputs": [],
   "source": [
    "# gottenAllUrls = getUrls(punch)\n",
    "# joinUrls = fullUrl(gottenAllUrls)\n",
    "# allHeadlines = get(joinUrls)"
   ]
  },
  {
   "cell_type": "code",
   "execution_count": 101,
   "metadata": {},
   "outputs": [],
   "source": [
    "# Saving to CSV\n",
    "# # open a csv file with append, so old data will not be erased\n",
    "# with open(‘index.csv’, ‘a’) as csv_file:\n",
    "#     writer = csv.writer(csv_file)\n",
    "#     writer.writerow([name, price, datetime.now()])\n",
    "    \n",
    "# with open('index.csv', 'w') as csv_file:\n",
    "#     writer = csv.writer(csv_file)\n",
    "#     for key, value in headlines.items():\n",
    "#        writer.writerow([key, value])\n",
    "    \n",
    "# (pd.DataFrame.from_dict(data=headlines, orient='index')\n",
    "#    .to_csv('dict_file.csv', header=False))"
   ]
  },
  {
   "cell_type": "code",
   "execution_count": 114,
   "metadata": {},
   "outputs": [
    {
     "name": "stdout",
     "output_type": "stream",
     "text": [
      "Wall time: 0 ns\n"
     ]
    }
   ],
   "source": [
    "%%time\n",
    "storeToJson({'wole': 'lala'}, 'punchs')"
   ]
  },
  {
   "cell_type": "markdown",
   "metadata": {},
   "source": [
    "# Punch"
   ]
  },
  {
   "cell_type": "code",
   "execution_count": 135,
   "metadata": {
    "collapsed": true
   },
   "outputs": [],
   "source": [
    "%%time\n",
    "punch = 'http://www.nigeria70.com/nigerian_news_paper/archives/the_punch'\n",
    "gottenAllUrls = getUrls(punch)\n",
    "joinUrls = fullUrl(gottenAllUrls)\n",
    "allHeadlines = getHeadline(joinUrls)\n",
    "storeToJson(allHeadlines, 'punch')"
   ]
  },
  {
   "cell_type": "code",
   "execution_count": 140,
   "metadata": {
    "collapsed": true
   },
   "outputs": [],
   "source": [
    "fullWebsite = []\n",
    "for item in arr:\n",
    "    fullWebsite.append(website + item)"
   ]
  }
 ],
 "metadata": {
  "kernelspec": {
   "display_name": "Python 3",
   "language": "python",
   "name": "python3"
  },
  "language_info": {
   "codemirror_mode": {
    "name": "ipython",
    "version": 3
   },
   "file_extension": ".py",
   "mimetype": "text/x-python",
   "name": "python",
   "nbconvert_exporter": "python",
   "pygments_lexer": "ipython3",
   "version": "3.6.1"
  }
 },
 "nbformat": 4,
 "nbformat_minor": 2
}
